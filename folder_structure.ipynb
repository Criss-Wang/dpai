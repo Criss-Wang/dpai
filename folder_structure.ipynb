{
 "cells": [
  {
   "cell_type": "code",
   "execution_count": 1,
   "metadata": {},
   "outputs": [],
   "source": [
    "from pathlib import Path\n",
    "from itertools import islice\n",
    "\n",
    "space =  '    '\n",
    "branch = '│   '\n",
    "tee =    '├── '\n",
    "last =   '└── '\n",
    "def tree(dir_path: Path, level: int=-1, limit_to_directories: bool=False,\n",
    "         length_limit: int=1000):\n",
    "    \"\"\"Given a directory Path object print a visual tree structure\"\"\"\n",
    "    dir_path = Path(dir_path) # accept string coerceable to Path\n",
    "    files = 0\n",
    "    directories = 0\n",
    "    def inner(dir_path: Path, prefix: str='', level=-1):\n",
    "        nonlocal files, directories\n",
    "        if not level: \n",
    "            return # 0, stop iterating\n",
    "        if limit_to_directories:\n",
    "            contents = [d for d in dir_path.iterdir() if d.is_dir()]\n",
    "        else: \n",
    "            contents = list(dir_path.iterdir())\n",
    "        pointers = [tee] * (len(contents) - 1) + [last]\n",
    "        for pointer, path in zip(pointers, contents):\n",
    "            if path.is_dir():\n",
    "                yield prefix + pointer + path.name\n",
    "                directories += 1\n",
    "                extension = branch if pointer == tee else space \n",
    "                yield from inner(path, prefix=prefix+extension, level=level-1)\n",
    "            elif not limit_to_directories:\n",
    "                yield prefix + pointer + path.name\n",
    "                files += 1\n",
    "    print(dir_path.name)\n",
    "    iterator = inner(dir_path, level=level)\n",
    "    for line in islice(iterator, length_limit):\n",
    "        print(line)\n",
    "    if next(iterator, None):\n",
    "        print(f'... length_limit, {length_limit}, reached, counted:')\n",
    "    print(f'\\n{directories} directories' + (f', {files} files' if files else ''))"
   ]
  },
  {
   "cell_type": "code",
   "execution_count": 4,
   "metadata": {},
   "outputs": [
    {
     "name": "stdout",
     "output_type": "stream",
     "text": [
      "dpai-criss_wang\n",
      "├── LICENSE\n",
      "├── requirements.txt\n",
      "├── Makefile\n",
      "├── pyproject.toml\n",
      "├── tests\n",
      "│   ├── test_utils.py\n",
      "│   ├── conftest.py\n",
      "│   ├── test_model_manager.py\n",
      "│   ├── __init__.py\n",
      "│   └── data\n",
      "├── MANIFEST.in\n",
      "├── .readthedocs.yml\n",
      "├── README.md\n",
      "├── temp.txt\n",
      "├── setup.py\n",
      "├── .gitignore\n",
      "├── tem.ipynb\n",
      "├── venv\n",
      "│   ├── bin\n",
      "│   ├── include\n",
      "│   ├── pyvenv.cfg\n",
      "│   ├── lib\n",
      "│   └── share\n",
      "├── .git\n",
      "│   ├── config\n",
      "│   ├── objects\n",
      "│   ├── HEAD\n",
      "│   ├── info\n",
      "│   ├── logs\n",
      "│   ├── description\n",
      "│   ├── hooks\n",
      "│   ├── refs\n",
      "│   ├── index\n",
      "│   └── packed-refs\n",
      "└── src\n",
      "    ├── dpai.egg-info\n",
      "    └── dpai\n",
      "\n",
      "16 directories, 21 files\n"
     ]
    }
   ],
   "source": [
    "tree(Path.cwd(), level=2)"
   ]
  },
  {
   "cell_type": "code",
   "execution_count": null,
   "metadata": {},
   "outputs": [],
   "source": []
  }
 ],
 "metadata": {
  "kernelspec": {
   "display_name": "Python 3",
   "language": "python",
   "name": "python3"
  },
  "language_info": {
   "codemirror_mode": {
    "name": "ipython",
    "version": 3
   },
   "file_extension": ".py",
   "mimetype": "text/x-python",
   "name": "python",
   "nbconvert_exporter": "python",
   "pygments_lexer": "ipython3",
   "version": "3.11.5"
  }
 },
 "nbformat": 4,
 "nbformat_minor": 2
}
